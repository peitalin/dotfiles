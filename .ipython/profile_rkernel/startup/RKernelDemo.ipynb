







<!DOCTYPE html>
<html lang="en">
  <head>
    <meta charset="utf-8">
    <title></title>

    <meta name="viewport" content="width=device-width, initial-scale=1.0">

    
    <meta name="description" content="">
    

    
    <meta name="author" content="">
    

    <!--NEW RELIC Start Perf Measurement-->
    
    <!--NREND-->

    <!-- Le styles -->
    <!--<link href="/static/css/bootstrap.css" rel="stylesheet">-->
    <link href="/static/css/docs.css" rel="stylesheet">
    <link href="/static/css/bootstrap.min.css" rel="stylesheet">
    <link href="/static/css/bootstrap-responsive.css" rel="stylesheet">
    <link href="/static/components/animate.css/animate.css" rel="stylesheet">
    <link href="/static/components/Font-Awesome/css/font-awesome.min.css" rel="stylesheet">
    <link href="/static/css/nbviewer.css" rel="stylesheet">


    <!-- Le HTML5 shim, for IE6-8 support of HTML5 elements -->
    <!--[if lt IE 9]>
      <script src="http://html5shim.googlecode.com/svn/trunk/html5.js"></script>
    <![endif]-->

    <!-- Le fav and touch icons -->
    <link rel="shortcut icon" href="/static/ico/ipynb_icon_16x16.png">
    <link rel="apple-touch-icon-precomposed" sizes="144x144" href="/static/ico/apple-touch-icon-144-precomposed.png">
    <link rel="apple-touch-icon-precomposed" sizes="114x114" href="/static/ico/apple-touch-icon-114-precomposed.png">
    <link rel="apple-touch-icon-precomposed" sizes="72x72" href="/static/ico/apple-touch-icon-72-precomposed.png">
    <link rel="apple-touch-icon-precomposed" href="/static/ico/apple-touch-icon-57-precomposed.png">
    
    
    

    

    
    <meta name="twitter:card" content="summary">

    
    <meta name="twitter:title" content="Notebook on nbviewer">
    

    
    <meta name="twitter:description" content="Check out this IPython notebook!">
    

    
    <meta name="twitter:domain" content="nbviewer.ipython.org">
    

    <meta name="twitter:image:src" content="http://ipython.org/ipython-doc/dev/_images/ipynb_icon_128x128.png">
    
    
    

    <link href="/ipython-static/style/ipython.min.css" rel="stylesheet">
    <link href="/static/css/pygments.css" rel="stylesheet">
    <style type="text/css" media='screen and (min-width:980px)'>
   
    body {
        padding-top: 40px;
    }

    </style>
    <style type="text/css" >
    .imgwrap {
        text-align: center;
    }

    @media (max-width: 767px){

        div.input, div.output_area {
            -webkit-box-orient: vertical;
            -moz-box-orient: vertical;
            box-orient: vertical;
        }

        div.prompt {
            text-align:left;
        }

    }

    
    </style>
    
    <script src="https://c328740.ssl.cf1.rackcdn.com/mathjax/latest/MathJax.js?config=TeX-AMS_HTML"type="text/javascript">
    </script>
    <script type="text/javascript">
    init_mathjax = function() {
        if (window.MathJax) {
            // MathJax loaded
            MathJax.Hub.Config({
                tex2jax: {
                    inlineMath: [ ['$','$'], ["\\(","\\)"] ],
                    displayMath: [ ['$$','$$'], ["\\[","\\]"] ],
                    processEscapes: true,
                    processEnvironments: true
                },
                displayAlign: 'center',
                "HTML-CSS": {
                    styles: {'.MathJax_Display': {"margin": 0}},
                    linebreaks: { automatic: true }
                }
            });
            MathJax.Hub.Queue(["Typeset",MathJax.Hub]);
        }
    }
    init_mathjax();
    </script>
    
  </head>

  <body data-spy="scroll" data-target=".subnav" data-offset="50">

  <!-- These are loaded at the top of the body so they are available to notebook
  cells when they are loaded below. -->
  <script src="/static/js/jquery.min.js"></script>
  <script src="/static/components/requirejs/require.js"></script>
  <script src="/static/components/moment/min/moment.min.js"></script>

  <!-- Navbar
  ================================================== -->
    <div id='menubar' class="navbar navbar-fixed-top hidden-print">
      <div class="navbar-inner">
        <div class="container">
          <button type="button" class="btn btn-navbar" data-toggle="collapse" data-target=".nav-collapse">
            <span class="icon-bar"></span>
            <span class="icon-bar"></span>
            <span class="icon-bar"></span>
          </button>
          <div class="nav-collapse collapse">
            <ul class="nav">

                <li>
        <a href="/" title="Notebook Viewer" >
            <strong>
            <span>Notebook Viewer</span>
            </strong>
        </a>
    </li>
                <li>
        <a href="/faq" title="FAQ" >
            
            <span>FAQ</span>
            
        </a>
    </li>

              <li class="">
                <a href="http://www.ipython.org">IPython</a>
              </li>
            </ul>
            <ul class="nav pull-right"> 
              
              
      
        <li>
        <a href="https://github.com/fperez/ipython-rkernel/blob/master/RKernelDemo.ipynb" title="Notebook Home" >
            <span class='fa fa-github fa-2x menu-icon'></span>
            <span class='menu-text'>Notebook Home</span>
        </a>
    </li>
      
        <li>
        <a href="https://raw.github.com/fperez/ipython-rkernel/master/RKernelDemo.ipynb" title="Download Notebook" download>
            <span class='fa fa-download fa-2x menu-icon'></span>
            <span class='menu-text'>Download Notebook</span>
        </a>
    </li>
    
            </ul>
          </div>
        </div>
      </div>
    </div>
    <div class="container">

     
    
<ul class="breadcrumb">
    
    <li><a href="/github/fperez/ipython-rkernel/tree/master">ipython-rkernel</a> <span class="divider">/</span></li>
    
    <li><a href="/github/fperez/ipython-rkernel/tree/master/RKernelDemo.ipynb">RKernelDemo.ipynb</a> <span class="divider">/</span></li>
    
</ul>

    
<div class="cell border-box-sizing text_cell rendered">
<div class="prompt input_prompt">
</div>
<div class="inner_cell">
<div class="text_cell_render border-box-sizing rendered_html">
<h1 id="A-&quot;Native&quot;-R-kernel-for-IPython">A "Native" R kernel for IPython<a class="anchor-link" href="#A-&quot;Native&quot;-R-kernel-for-IPython">&#182;</a></h1>
</div>
</div>
</div>

<div class="cell border-box-sizing text_cell rendered">
<div class="prompt input_prompt">
</div>
<div class="inner_cell">
<div class="text_cell_render border-box-sizing rendered_html">
<p>This is a quick hack that simply prepends <code>%%R</code> to every cell and requires using the IPython R magic.</p>
<p>To make this work, run:</p>
<pre><code>ipython profile create rkernel
</code></pre><p>Then put the accompanying <code>rkernel.py</code> file in the <code>startup/</code> directory of the above profile directory, and run IPython with</p>
<pre><code>ipython &lt;app&gt; --profile rkernel
</code></pre><p>where <code>&lt;app&gt;</code> can be <code>notebook</code>, <code>qtconsole</code>, or nothing for the terminal client.</p>
<p>Written in 20 minutes by F. Perez, Ariel Rokem and Haoxing Zhang @ Stanford, Feb 19 2014.</p>
</div>
</div>
</div>
<div class="cell border-box-sizing text_cell rendered">
<div class="prompt input_prompt">
</div>
<div class="inner_cell">
<div class="text_cell_render border-box-sizing rendered_html">
<p>Simple variable assignment:</p>
</div>
</div>
</div>
<div class="cell border-box-sizing code_cell rendered">
<div class="input">
<div class="prompt input_prompt">
In&nbsp;[1]:
</div>
<div class="inner_cell">
    <div class="input_area">
<div class="highlight"><pre><span class="n">a</span> <span class="o">&lt;-</span> <span class="mi">1</span>
<span class="n">a</span>
</pre></div>

</div>
</div>
</div>

<div class="output_wrapper">
<div class="output">


<div class="output_area"><div class="prompt"></div>


<div class="output_text output_subarea ">
<pre>
[1] 1

</pre>
</div>

</div>

</div>
</div>

</div>
<div class="cell border-box-sizing text_cell rendered">
<div class="prompt input_prompt">
</div>
<div class="inner_cell">
<div class="text_cell_render border-box-sizing rendered_html">
<p>Simple plots</p>
</div>
</div>
</div>
<div class="cell border-box-sizing code_cell rendered">
<div class="input">
<div class="prompt input_prompt">
In&nbsp;[2]:
</div>
<div class="inner_cell">
    <div class="input_area">
<div class="highlight"><pre><span class="n">X</span> <span class="o">&lt;-</span> <span class="n">c</span><span class="p">(</span><span class="mi">1</span><span class="p">,</span><span class="mi">2</span><span class="p">,</span><span class="mi">3</span><span class="p">)</span>
<span class="n">Y</span> <span class="o">&lt;-</span> <span class="n">c</span><span class="p">(</span><span class="mf">4.5</span><span class="p">,</span><span class="mf">5.7</span><span class="p">,</span><span class="mf">8.1</span><span class="p">)</span>
<span class="n">plot</span><span class="p">(</span><span class="n">X</span><span class="p">,</span><span class="n">Y</span><span class="p">)</span>
<span class="k">print</span><span class="p">(</span><span class="n">summary</span><span class="p">(</span><span class="n">lm</span><span class="p">(</span><span class="n">Y</span><span class="o">~</span><span class="n">X</span><span class="p">)))</span>
</pre></div>

</div>
</div>
</div>

<div class="output_wrapper">
<div class="output">


<div class="output_area"><div class="prompt"></div>


<div class="output_text output_subarea ">
<pre>

Call:
lm(formula = Y ~ X)

Residuals:
   1    2    3 
 0.2 -0.4  0.2 

Coefficients:
            Estimate Std. Error t value Pr(&gt;|t|)
(Intercept)   2.5000     0.7483   3.341    0.185
X             1.8000     0.3464   5.196    0.121

Residual standard error: 0.4899 on 1 degrees of freedom
Multiple R-squared:  0.9643,	Adjusted R-squared:  0.9286 
F-statistic:    27 on 1 and 1 DF,  p-value: 0.121


</pre>
</div>

</div>

<div class="output_area"><div class="prompt"></div>


<div class="output_png output_subarea ">
<img src="data:image/png;base64,iVBORw0KGgoAAAANSUhEUgAAAeAAAAHgCAMAAABKCk6nAAACqVBMVEUAAAABAQECAgIDAwMEBAQF
BQUGBgYHBwcICAgJCQkKCgoLCwsMDAwNDQ0ODg4PDw8QEBARERESEhITExMUFBQWFhYXFxcZGRka
GhobGxsdHR0eHh4fHx8hISEiIiIjIyMkJCQlJSUmJiYnJycoKCgpKSkqKiorKystLS0uLi4vLy8w
MDAxMTEyMjIzMzM1NTU3Nzc4ODg5OTk6Ojo7Ozs8PDw+Pj4/Pz9AQEBBQUFCQkJDQ0NERERFRUVG
RkZHR0dISEhJSUlKSkpLS0tMTExNTU1OTk5PT09QUFBRUVFSUlJTU1NUVFRVVVVWVlZXV1dYWFhZ
WVlaWlpbW1tcXFxeXl5fX19gYGBhYWFiYmJjY2NkZGRlZWVmZmZnZ2dqampra2tsbGxtbW1vb29w
cHBxcXFycnJzc3N0dHR1dXV2dnZ3d3d4eHh5eXl6enp8fHx9fX1+fn5/f3+AgICBgYGCgoKFhYWH
h4eIiIiJiYmKioqLi4uMjIyNjY2Ojo6Pj4+QkJCRkZGSkpKTk5OUlJSVlZWWlpaXl5eYmJiZmZma
mpqbm5ucnJyenp6fn5+goKCioqKkpKSmpqaoqKipqamqqqqrq6usrKytra2urq6wsLCxsbGysrKz
s7O1tbW2tra3t7e4uLi5ubm6urq7u7u8vLy9vb2+vr6/v7/AwMDBwcHCwsLDw8PExMTFxcXGxsbH
x8fJycnKysrLy8vMzMzPz8/R0dHS0tLU1NTV1dXW1tbX19fY2NjZ2dna2trb29vc3Nzd3d3e3t7f
39/g4ODh4eHi4uLj4+Pk5OTl5eXm5ubn5+fo6Ojp6enq6urr6+vs7Ozu7u7v7+/w8PDx8fHy8vLz
8/P09PT19fX29vb39/f4+Pj5+fn6+vr7+/v8/Pz9/f3+/v7///9Sr5kMAAANFUlEQVR4nO3d/X/V
ZR3H8SNr4C2bUsnNUkYoOtAybkQZ4t00yQ0RBIeVloo3qVkUEGZW3uBolaWTMkkxT7W5uNlIE1A0
vNlwsKNs3LTtsHP9JZ0dyLHv2R6ec67ry7l67/X84ZzxvfB6fOSl29l320XEQFok3wMgXAQWR2Bx
BBZHYHEEFkdgcQQWR2BxBBZHYHEEFkdgcQQWR2BxBBZHYHEEFkdgcQQWR2BxBBZHYHEEFkdgcQQW
R2BxBBZHYHEEFkdgcQQWR2BxBBZHYHEEFkdgcQQWR2BxBBZHYHEEFkdgcQQWR2BxBBZHYHEEFkdg
cQQWR2BxBBZHYHEEFkdgcQQWR2BxFoFj62qQf7/tCSvwczfn+98NSTPeCS3wk7n/s3BmGYG1EVgc
gcURWByBxRFYHIHFEVjN4Q8H/JLAWnrvufrW2a8dd4HAWn75iDEHZn7cf4HAWq7tTD6s2th/wUXg
REfvIFcJnA83xpIPP2zov2Ad+NDK0pGRgokruoILBM6H9bf1mJ0zD/dfsA68pLw+1hNrrKgOLhA4
L9bNnXvTW8f92jpwUWvqqXNMcIHAXrAOPLU29VQ3LbhAYC9YB24umVxZXTVl7LbgAoG9YP8qOh6t
XV0TjaddJ7AXXH0e3LIheIXAXnAV+PnTPn2z4Xsp5ctynwrOhHAna9+2lIXzc5sITrkJvP+T9Gt3
LchhHLhmHXj7Zd+IXTuq4LLW4AKBvWAdeNYd9465v+vwd64PLhDYC9aBT2nrPOmwMe2jgwsE9oJ1
4AnRLZEtxvzlvOACgb1gHfipwtFPnb1sadEfgwsE9oL9q+hde8yONaveTLtOYC+E9x0dBPYCgcUR
WByBxRFYHIHFEVgcgcURWByBxRFYHIHFEVgcgcURWByBxRFYHIHFEVgcgcURWByBxRFYHIHFEVgc
gcURWByBxbkJvI8jHHxlHXhem2mZPqJwzp7gAoG9YB04stssWHywe3namToE9oKLwOfsNKa9KLhA
YC/YB94Ur9hoTP2k4AKBvWB/ys74UcVlpqG4JrhAYC84eBXdvWuzaWpMu0xgL4R3GCmBvRDCYaR1
5SkTLs99KjjDnSxx1oEbDw+xQGAv2H+adH7D4AsE9oJ94NcWVb0x2AKBveDiTtaW6Zeu+yBtgcBe
cBHYJOrvLBkbXCCwF5wETkr8M7hAYC9YB35k/xALBPYCnweLI7A4AosjsDgCiyOwOAKLI7A4Aosj
sDgCiyOwOAKLI7A4AosjsDgCiyOwOAKLI7A4AosjsDgCiyOwOAKLI7A4AosjsDgXgRMdvYNcJbAX
rAMfWlk6MlIwcUVXcIHAXrAOvKS8PtYTa6yoDi4Q2AvWgYtaU0+dY4ILBPaCdeCptamnumnBBQJ7
wTpwc8nkyuqqKWO3BRcI7AX7V9HxaO3qmmg87TqBvRDCYaQd21IW3pj7VHAmhMNIX/lWygVX5D4V
nOFOljgOIxXHYaTiOIxUHIeRiuMwUnEcRiqOw0jF8XmwOAKLI7A4AosjsDgCiyOwOAKLI7A4Aosj
sDgCiyOwOAKLI7A4AosjsDgCiyOwOAKLI7A4AosjsDgCiyOwOAKLI7A4N4H3fZJ+jcBesA48r820
TB9ROGdPcIHAXnDx46MLFh/sXj4/uEBgL7gIfM5OY9qLggsE9oJ94E3xio3G1E8KLhDYC9aBZ40f
VVxmGoprggsE9oKDV9Hduzabpsa0ywT2QghnVR5DYC+EcFbl1tUpM6/OeSi4E8KdrPdeTZl/fW4T
wSnuZImzDrxz9usfXFJQOPvD4AKBvWAd+Kt3d82/4z9dd10TXCCwF6wDn95mJr5tTPsZwQUCe8E6
8JWPJr651pjfXRRcILAXrAO3XjT5uhGzL/3i1uACgb1g/yo60fSbNU9sSPub7QjsB76jQxyBxRFY
HIHFEVgcgcVlEnjxR7nsTGAvZBL4utG/SP/LRT8Tgb2Q0bvo6AVl/8h6ZwJ7IbOPwUdqzrp60aJF
We1MYC9kFrj922fct2rVqqx2JrAXMgkcf/LMr7+f9c4E9kImgS+c8GIOOxPYC5kEvu9gLjsT2Avc
6BBHYHEEFkdgcQQWR2BxBBZHYHEEFkdgcQQWR2BxBBZHYHEuAic6ege5SmAvWAc+tLJ0ZKRg4oq0
Hy8ksBesAy8pr4/1xBorqoMLBPaCdeCi1tRT55jgAoG9YB14am3qqW5acIHAXrAO3FwyubK6asrY
bcEFAnvB/lV0PFq7uiaa/rMtBPYCh5GKC+Ew0rrylAmX5z4VnOFOljgOIxXHYaTiOIxUHIeRiuMw
UnEcRiqOw0jF8XmwOAKLI7A4AosjsDgCiyOwOAKLI7A4AosjsDgCiyOwOAKLI7A4Ag8ttub2delf
5/4/Q+Ah7f3Ki2+vm3sk32NYIvCQfvRy8uHHL+V7DEsEHtKS95IP6x/P9xiWCDykNc8kH75bn+8x
LBF4SAdm/nzjAzfnewpbBB5az/qfRvM9gzUCiyOwOAKLI7A4AosjsDiOcBBnHXhem2mZPqJwzp7g
AoG9YB04stssWHywe/n84AKBveAi8Dk7jWkvCi4Q2Av2gTfFKzYaUz8puEBgL1gHnjV+VHGZaSiu
CS4Q2AsOXkV379psmhrTLhPYCyEcRtr1bsqtVblPBWdCOIx0Q2XKpLm5TwVnuJMljjtZ4riTJY47
WeK4kyWOO1niuJMljjtZ4vg8WByBxRFYHIHFEVgcgcURWByBxRFYHIHFEVgcgcURWByBxRFYHIHF
EVgcgcURWByBxRFYHIHFEVgcgcURWByBxRFYnIvAiY7eQa4S2AvWgQ+tLB0ZKZi4Iu2vCCOwF6wD
Lymvj/XEGiuqgwsE9oJ14KLW1FPnmOACgb1gHXhqbeqpblpwgcBesA7cXDK5srpqythtwQUCe8H+
VXQ8Wru6JhpPu05gL4RwVuUxBPZCCGdVvlGTMufa3KeCMyHcydpRl3JNRW4TwSnOqhTHWZXiOKtS
HGdViuOsSnGcVSmOsyrF8R0d4ggsjsDiCCyOwOIILI7A4ggsjsDiCCyOwOIILI7A4ggsjsDiCCyO
wOIILI7A4ggsjsDiCCyOwOIILI7A4ggsjsDiCCyOIxzEcYSDOI5wEMcRDuI4wkHciTrCYev6N7Md
DS6coCMcllavXVadyG40uHBiDiPd8GDy4eEXMh8LroRwGOn68pSSK/pXH34t+bDlwayng7Xw7mQ9
92T/22ufST78/vHcN0OuHAXekvaXrgwIHJvx166/zWzPYi444ijwmA/TLh0f2LTdfeVdH2U+FZyx
DnxaQZ/IiILgwoDAyBfrwNu/Vvlue/uZr6e9/yWwF+zfRR957Mt//sx30cgXFx+D35m9+AwCe8rJ
i6zemgWxtIsE9sKJ+TwYeUNgcQQWR2Bx4QV+pfTi450amlEnh7Z1YWg7jzwltK2LB/y5l7aGFThg
trOdgp6oC23r8IZ+YEtYO++tyuZ3EzgkBM4cgQcgcBYInDkCD0DgzBF4gHwFnutsp6C1fwht6/CG
fqgprJ3bb8rmd7sLnP49Pa7Ej4S2dXhDd4f3PcRZDe0uMLxEYHEEFkdgcQQWR2BxBBZHYHFOAl+1
4+hz87TipYddbJi286xIJDLP5cavlp0641+pt1wP3b+z66ETPzj7lJlHf8w+86EdBI7eFjmaIV7y
q5Y5K+03TN/ZjN+0e3ebw533nF63//vn973leuj+nZ0PHZ2wfV/1VX1vZTG0g8CP3HHq0QzRycb8
vdR+w/Sdu0c5vlv57CXJTU/62Lgfun9n50P/uymx/6ElfW9lMbSTd9HjjmaorTQmNtLpPdhjO+8q
rjh3YYvDfTv3GtPwpb5RXQ/dv7PzoZP/9UQ+v7vvOYuhXQZeXW1MT6TDxY6BnTeXvbRj8QyXG5vE
C+Ne7Ht2P/T/dg5haHPo3tQXOLMY2mXgmqrkf1ef63WxY2DnPgdGuPz58tgNFzen3nA+9Kc793E6
9Fvv9/1/2/e1pCyGdhn41SnGNE50sWFw56aG5Ie0wkHOy8xV10UPHfsA6Xro/p2dD/2TO4354OS+
3bMY2l3g51viY58/cN0KFxsGd24sbojdM8fhvs+W7U46EsLQ/Ts7H7r5C1vbb6nK8k/aXeDTNpjm
srOWuv0S+rGdE0+Xjr4h7TRUC/dH+rSHMHT/zs6HNr8+v6iqPcs/ae5kiSOwOAKLI7A4AosjsDgC
iyOwOAKLI7A4AosjsDgCiyOwOAKLI7A4AosjsDgCiyOwuGEceNPJ243Ze9af8j1HuIZxYLN8Zq9Z
eEu+pwjZcA58qHTtS+McfmO6l4ZzYNNYPOHlfM8QtmEdOHHhueEdoueJYR245ryyn+V7hrAN58Dv
FW1qOv2tfE8RsmEcOFF+uzF3zxB/Jz2MAz89rsOYAyWP5nuOcA3jwMMDgcURWByBxRFYHIHFEVgc
gcURWByBxRFYHIHFEVgcgcURWByBxRFYHIHFEVjcfwEV87DC0H90IgAAAABJRU5ErkJggg==
"
>
</div>

</div>

</div>
</div>

</div>
<div class="cell border-box-sizing code_cell rendered">
<div class="input">
<div class="prompt input_prompt">
In&nbsp;[]:
</div>
<div class="inner_cell">
    <div class="input_area">
<div class="highlight"><pre> 
</pre></div>

</div>
</div>
</div>

</div>


      <div class="span12 text-center">
        <a href="#">Back to top</a>
      </div>

     <!-- Footer
     ================================================== -->
      
      <footer class="footer">
      <div class="span12 row-fluid footer">
          <div class="span8">
            <p>
            This web site does not host notebooks, it only renders notebooks available on other websites.
            Thanks to <a href="http://www.rackspace.com">Rackspace</a> for hosting.
            <a href="https://github.com/ipython/nbviewer">More Info</a>,
            <a href="https://github.com/ipython/nbviewer/blob/master/LICENSE.txt" target="_blank">License</a>.
            </p>
          </div>

          <div class="span4">
            

              
                <p>
                    nbviewer version:
                    <a href="https://github.com/ipython/nbviewer/commit/92620ce17a6277da0463223fb0da1cad01f8b88f">92620ce</a>
                </p>
              
            

<p class="text-muted">
    IPython version: 3.0.0-dev
    
    (<a href="https://github.com/ipython/ipython/commit/ddbe6bb">
      ddbe6bb
    </a>)
    
</p>


            

            

<p class="text-muted">
Rendered <span class='date' data-date='Sat, 19 Apr 2014 04:28:19 UTC' title='Sat, 19 Apr 2014 04:28:19 UTC'>(Sat, 19 Apr 2014 04:28:19 UTC)</span>
</p>


          </div>
      </div>
      </footer>
      

    </div><!-- /container -->

    <script src="/static/js/bootstrap-collapse.js"></script>
    <script src="/static/components/headroom.js/dist/headroom.min.js"></script>
    <script src="/static/components/headroom.js/dist/jQuery.headroom.min.js"></script>


    
    
    
    <script>
    $(document).ready(
                function(){
                    $("#menubar").headroom({
                        "tolerance": 5,
                        "offset": 205,
                        "classes": {
                            "initial": "animated",
                            "pinned": "slideInDown",
                            "unpinned": "slideOutUp"
                        }
                    })
                }
            );
    </script>


    <!-- Analytics
    ================================================== -->
    <script type="text/javascript">
      var _gaq = _gaq || [];
      _gaq.push(['_setAccount', 'UA-38683231-2']);
      _gaq.push(['_trackPageview']);

      (function() {
        var ga = document.createElement('script'); ga.type = 'text/javascript'; ga.async = true;
        ga.src = ('https:' == document.location.protocol ? 'https://ssl' : 'http://www') + '.google-analytics.com/ga.js';
        var s = document.getElementsByTagName('script')[0]; s.parentNode.insertBefore(ga, s);
      })();

    </script>
    <script>
        var update_date  = function(){
            var str = window.moment($('.date').data('date')).fromNow();
            $('.date').text(str);
        }
        setInterval(update_date , 61*1000);
        $(update_date);
    </script>
    <!--NEW RELIC Stop Perf Measurement-->
    
    <!--NEW RELIC End-->
  </body>
</html>